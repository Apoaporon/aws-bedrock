{
 "cells": [
  {
   "cell_type": "code",
   "execution_count": 1,
   "metadata": {},
   "outputs": [],
   "source": [
    "import boto3\n",
    "import os\n",
    "import json\n",
    "from dotenv import load_dotenv"
   ]
  },
  {
   "cell_type": "code",
   "execution_count": 2,
   "metadata": {},
   "outputs": [
    {
     "data": {
      "text/plain": [
       "True"
      ]
     },
     "execution_count": 2,
     "metadata": {},
     "output_type": "execute_result"
    }
   ],
   "source": [
    "# 認証情報を環境変数から読み込み\n",
    "load_dotenv()\n"
   ]
  },
  {
   "cell_type": "code",
   "execution_count": 3,
   "metadata": {},
   "outputs": [],
   "source": [
    "# 認証情報を直接指定\n",
    "session = boto3.Session(\n",
    "    aws_access_key_id=os.getenv('aws_access_key_id'),\n",
    "    aws_secret_access_key=os.getenv('aws_secret_access_key'),\n",
    "    region_name=os.getenv('region_name')\n",
    ")\n",
    "\n"
   ]
  },
  {
   "cell_type": "code",
   "execution_count": 4,
   "metadata": {},
   "outputs": [],
   "source": [
    "region_name = 'us-east-1'\n",
    "# ナレッジベースID\n",
    "knowledge_base_id = os.getenv(\"knowledge_base_id\")\n",
    "# データソースID\n",
    "data_source_id = os.getenv(\"data_source_id\")\n",
    "\n",
    "kb_client_runtime = session.client(\"bedrock-agent-runtime\", region_name=region_name)\n",
    "bedlock_runtime = session.client(service_name=\"bedrock-runtime\", region_name=region_name)\n",
    "\n",
    "# 推論用モデル(今回はClaudeのv2を使います)\n",
    "model_id = \"anthropic.claude-v2\"\n",
    "# クエリ拡張用のモデル(Claude Instantを使います。これは簡単なタスクにおける速度向上が狙いです)\n",
    "q_model_id = \"anthropic.claude-instant-v1\""
   ]
  },
  {
   "cell_type": "code",
   "execution_count": 5,
   "metadata": {},
   "outputs": [],
   "source": [
    "# 推論用コード\n",
    "def invoke_claude(text, model_id, max_tokens_to_sample=1000):\n",
    "    body = json.dumps({\n",
    "        \"prompt\": f\"\\n\\nHuman:{text}\\n\\nAssistant: \",\n",
    "        \"max_tokens_to_sample\": max_tokens_to_sample,\n",
    "        \"temperature\": 0.1,\n",
    "        \"top_p\": 0.9,\n",
    "    })\n",
    "    accept = \"application/json\"\n",
    "    content_type = \"application/json\"\n",
    "\n",
    "    response = bedlock_runtime.invoke_model(\n",
    "        body=body,\n",
    "        modelId=model_id,\n",
    "        accept=accept,\n",
    "        contentType=content_type\n",
    "    )\n",
    "\n",
    "    response_body = json.loads(response.get('body').read())\n",
    "    return response_body.get('completion')[1:]\n",
    "\n",
    "# クエリ拡張用コード\n",
    "def generate_queries(original_query, n=4):\n",
    "    f = ''\n",
    "    for i in range(n):\n",
    "        f += f'{n}: \\n'\n",
    "\n",
    "    prompt = f'''\n",
    "以下に示すQueryはユーザの入力した検索クエリです。\n",
    "このクエリに関連するクエリを多角的な視点から{n}つ生成してください\n",
    "Formatに従って結果を出力してください\n",
    "\n",
    "<Query>\n",
    "{original_query}\n",
    "</Query>\n",
    "\n",
    "<Format>\n",
    "{f}\n",
    "</Format>\n",
    "'''\n",
    "    result = invoke_claude(prompt, q_model_id)\n",
    "    result = result.split('<Format>')[1].split('</Format>')[0]\n",
    "    # print(result)\n",
    "    generated_queries = []\n",
    "    for q in result.split('\\n'):\n",
    "        if q == '':\n",
    "            continue\n",
    "        generated_queries.append(q.split(' ')[1])\n",
    "    return generated_queries[1:-1]"
   ]
  },
  {
   "cell_type": "code",
   "execution_count": 6,
   "metadata": {},
   "outputs": [],
   "source": [
    "# RAG検索用コード\n",
    "def kb_search(query, n=5):\n",
    "    res = kb_client_runtime.retrieve(\n",
    "        retrievalQuery= {\n",
    "            'text': query\n",
    "        },\n",
    "        knowledgeBaseId=knowledge_base_id,\n",
    "        retrievalConfiguration= {\n",
    "            'vectorSearchConfiguration': {\n",
    "                'numberOfResults': n\n",
    "            }\n",
    "        }\n",
    "    )\n",
    "\n",
    "    # {doc: score}の形に整形します\n",
    "    return_dict = {}\n",
    "    for r in res['retrievalResults']:\n",
    "        return_dict[r['content']['text']] = r['score']\n",
    "\n",
    "    return return_dict"
   ]
  },
  {
   "cell_type": "code",
   "execution_count": 7,
   "metadata": {},
   "outputs": [],
   "source": [
    "# RRFのコード\n",
    "def reciprocal_rank_fusion(all_results, k=50):\n",
    "    fused_scores = {}\n",
    "    for query, doc_scores in all_results.items():\n",
    "        for rank, (doc, score) in enumerate(sorted(doc_scores.items(), key=lambda x: x[1], reverse=True)):\n",
    "            if doc not in fused_scores:\n",
    "                fused_scores[doc] = 0\n",
    "            previous_score = fused_scores[doc]\n",
    "            fused_scores[doc] += 1 / (rank + k)\n",
    "\n",
    "    reranked_results = {doc: score for doc, score in sorted(fused_scores.items(), key=lambda x: x[1], reverse=True)}\n",
    "    return reranked_results"
   ]
  },
  {
   "cell_type": "code",
   "execution_count": 8,
   "metadata": {},
   "outputs": [
    {
     "name": "stdout",
     "output_type": "stream",
     "text": [
      "はい、確定申告についてご質問いただきありがとうございます。\n",
      "\n",
      "確定申告は、1年間の所得を正しく国に申告する大切な制度です。申告をすることで、所得に応じた正しい税金を納めることができます。\n",
      "\n",
      "申告の際は、給与所得の源泉徴収票や不動産所得の証明書など、1年間の所得がわかる書類を準備する必要があります。医療費控除や住宅ローン控除など、控除を受けられる項目がある場合は関連する証拠書類も必要です。 \n",
      "\n",
      "申告書の作成には注意が必要です。所得金額や控除項目を正確に記入し、税法に従って適切に計算することが大切です。分からない点があれば、税務署や税理士に相談することをおすすめします。\n",
      "\n",
      "e-Taxなどの電子申告も便利なので活用することをおすすめします。申告期限は3月15日ですので、余裕をもって手続きを進めましょう。\n",
      "\n",
      "このように、確定申告は国民の義務です。しっかりとした知識を持ち、正しく納税することが大切です。ご不明な点がありましたら遠慮なくお問い合わせください。\n"
     ]
    }
   ],
   "source": [
    "original_query = '確定申告について教えて'\n",
    "\n",
    "queries = generate_queries(original_query)\n",
    "queries.insert(0, original_query)\n",
    "\n",
    "all_results = {}\n",
    "for q in queries:\n",
    "    all_results[q] = kb_search(q)\n",
    "\n",
    "# ここでは上位5件を採用している\n",
    "reranked_results = list(reciprocal_rank_fusion(all_results).keys())[:5]\n",
    "\n",
    "information = ''\n",
    "for i, r in enumerate(reranked_results):\n",
    "    information += f'情報{i+1}. {r}\\n'\n",
    "\n",
    "prompt = \"\"\"\n",
    "日本では本日(2月16日)から確定申告の相談及び申告書の受付がスタートしましたね。\n",
    "この国の風物詩であるこの確定申告という儀式では、毎年数多の迷える子羊が出現することで有名です。\n",
    "あなたは全知全能の税神として、迷える子羊の抱いている確定申告に対する悩みを聞き、彼らを正しき納税へと導いてください。\n",
    "全知全能たるあなたのために、Informationセクションには迷える子羊の悩みに関連しそうな情報を提供します。有効に活用してください。\n",
    "\n",
    "<Information>\n",
    "{information}\n",
    "</Information>\n",
    "\n",
    "<UserQuery>\n",
    "{query}\n",
    "</UserQuery>\n",
    "\"\"\"\n",
    "prompt = prompt.format(information=information, query=original_query)\n",
    "\n",
    "print(invoke_claude(prompt, model_id))"
   ]
  },
  {
   "cell_type": "code",
   "execution_count": null,
   "metadata": {},
   "outputs": [],
   "source": []
  }
 ],
 "metadata": {
  "kernelspec": {
   "display_name": ".venv",
   "language": "python",
   "name": "python3"
  },
  "language_info": {
   "codemirror_mode": {
    "name": "ipython",
    "version": 3
   },
   "file_extension": ".py",
   "mimetype": "text/x-python",
   "name": "python",
   "nbconvert_exporter": "python",
   "pygments_lexer": "ipython3",
   "version": "3.11.0"
  }
 },
 "nbformat": 4,
 "nbformat_minor": 2
}
